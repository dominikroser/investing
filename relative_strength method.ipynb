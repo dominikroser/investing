{
 "cells": [
  {
   "cell_type": "code",
   "execution_count": null,
   "metadata": {},
   "outputs": [],
   "source": [
    "import yfinance as yf\n",
    "import pandas as pd\n",
    "\n",
    "# Define the S&P 500 ticker and the time period\n",
    "sp500_ticker = '^GSPC'\n",
    "start_date = '2023-01-01'\n",
    "end_date = today\n",
    "\n",
    "# Get the list of S&P 500 tickers\n",
    "sp500_tickers = pd.read_html('https://en.wikipedia.org/wiki/List_of_S%26P_500_companies')[0]['Symbol'].tolist()"
   ]
  },
  {
   "cell_type": "code",
   "execution_count": null,
   "metadata": {},
   "outputs": [],
   "source": [
    "# Download historical data\n",
    "stock_data = yf.download(sp500_tickers, start=start_date, end=end_date)['Adj Close']\n",
    "index_data = yf.download(sp500_ticker, start=start_date, end=end_date)['Adj Close']\n",
    "\n",
    "\n"
   ]
  },
  {
   "cell_type": "code",
   "execution_count": null,
   "metadata": {},
   "outputs": [],
   "source": [
    "# Function to calculate the 200-day moving average\n",
    "def calculate_200_day_moving_average(stock_prices):\n",
    "    return stock_prices.rolling(window=200).mean()"
   ]
  },
  {
   "cell_type": "code",
   "execution_count": null,
   "metadata": {},
   "outputs": [],
   "source": [
    "# Function to calculate relative strength\n",
    "def calculate_relative_strength(stock_prices, index_prices):\n",
    "    #computes the percentage change between consecutive days for the stock prices.\n",
    "    #dropna() is used to remove any NaN values that might result from the percentage change calculation (the first value is NaN\n",
    "    stock_returns = stock_prices.pct_change().dropna()\n",
    "    index_returns = index_prices.pct_change().dropna()\n",
    "    #(1 + stock_returns) converts daily returns into a factor by adding 1 (e.g., a return of 2% becomes 1.02)\n",
    "    #cumprod() computes the cumulative product of the daily returns, resulting in the cumulative return of the stock.\n",
    "    relative_strength = (1 + stock_returns).cumprod() / (1 + index_returns).cumprod()\n",
    "    return relative_strength.iloc[-1]"
   ]
  },
  {
   "cell_type": "code",
   "execution_count": null,
   "metadata": {},
   "outputs": [],
   "source": [
    "#Selecting only the values that should be over the 200 days line\n",
    "\n",
    "filtered_tickers = []\n",
    "for ticker in sp_500_tickers:\n",
    "    try:\n",
    "        current_price = stock_data[ticker].iloc[-1]\n",
    "        ma_200 = calculate_200_day_moving_average(stock_data[ticker]).iloc[-1]\n",
    "        if current_price > ma_200:\n",
    "            filtered_tickers.append(ticker)\n",
    "    except Exception as e:\n",
    "        print(f\"Could not calculate 200-day MA for {ticker}: {e}\")"
   ]
  },
  {
   "cell_type": "code",
   "execution_count": null,
   "metadata": {},
   "outputs": [],
   "source": [
    "# Calculate relative strength for each stock\n",
    "rs_values = {}\n",
    "for ticker in filtered_tickers:\n",
    "    try:\n",
    "        #function of calculate_relative_strength() is called for each stock in the list of S&P 500 ticker\n",
    "        rs = calculate_relative_strength(stock_data[ticker], index_data)\n",
    "        rs_values[ticker] = rs\n",
    "    except Exception as e:\n",
    "        print(f\"Could not calculate RS for {ticker}: {e}\")"
   ]
  },
  {
   "cell_type": "code",
   "execution_count": null,
   "metadata": {},
   "outputs": [],
   "source": [
    "# Convert to DataFrame and sort by RS\n",
    "rs_df = pd.DataFrame(list(rs_values.items()), columns=['Ticker', 'Relative Strength'])\n",
    "rs_df = rs_df.sort_values(by='Relative Strength', ascending=False)\n",
    "\n",
    "# Display the top 10 stocks by relative strength\n",
    "print(rs_df.head(10))"
   ]
  }
 ],
 "metadata": {
  "language_info": {
   "name": "python"
  }
 },
 "nbformat": 4,
 "nbformat_minor": 2
}
