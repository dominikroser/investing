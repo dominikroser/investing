{
 "cells": [
  {
   "cell_type": "code",
   "execution_count": 10,
   "metadata": {},
   "outputs": [
    {
     "name": "stdout",
     "output_type": "stream",
     "text": [
      "Requirement already satisfied: pandas_datareader in c:\\users\\roser\\appdata\\local\\programs\\python\\python310\\lib\\site-packages (0.10.0)\n",
      "Requirement already satisfied: lxml in c:\\users\\roser\\appdata\\local\\programs\\python\\python310\\lib\\site-packages (from pandas_datareader) (4.9.2)\n",
      "Requirement already satisfied: pandas>=0.23 in c:\\users\\roser\\appdata\\local\\programs\\python\\python310\\lib\\site-packages (from pandas_datareader) (1.5.3)\n",
      "Requirement already satisfied: requests>=2.19.0 in c:\\users\\roser\\appdata\\local\\programs\\python\\python310\\lib\\site-packages (from pandas_datareader) (2.31.0)\n",
      "Requirement already satisfied: numpy>=1.21.0 in c:\\users\\roser\\appdata\\local\\programs\\python\\python310\\lib\\site-packages (from pandas>=0.23->pandas_datareader) (1.23.5)\n",
      "Requirement already satisfied: pytz>=2020.1 in c:\\users\\roser\\appdata\\local\\programs\\python\\python310\\lib\\site-packages (from pandas>=0.23->pandas_datareader) (2022.7.1)\n",
      "Requirement already satisfied: python-dateutil>=2.8.1 in c:\\users\\roser\\appdata\\roaming\\python\\python310\\site-packages (from pandas>=0.23->pandas_datareader) (2.8.2)\n",
      "Requirement already satisfied: urllib3<3,>=1.21.1 in c:\\users\\roser\\appdata\\local\\programs\\python\\python310\\lib\\site-packages (from requests>=2.19.0->pandas_datareader) (1.26.12)\n",
      "Requirement already satisfied: charset-normalizer<4,>=2 in c:\\users\\roser\\appdata\\local\\programs\\python\\python310\\lib\\site-packages (from requests>=2.19.0->pandas_datareader) (2.1.1)\n",
      "Requirement already satisfied: certifi>=2017.4.17 in c:\\users\\roser\\appdata\\local\\programs\\python\\python310\\lib\\site-packages (from requests>=2.19.0->pandas_datareader) (2022.6.15)\n",
      "Requirement already satisfied: idna<4,>=2.5 in c:\\users\\roser\\appdata\\local\\programs\\python\\python310\\lib\\site-packages (from requests>=2.19.0->pandas_datareader) (3.3)\n",
      "Requirement already satisfied: six>=1.5 in c:\\users\\roser\\appdata\\local\\programs\\python\\python310\\lib\\site-packages (from python-dateutil>=2.8.1->pandas>=0.23->pandas_datareader) (1.16.0)\n",
      "Note: you may need to restart the kernel to use updated packages.\n"
     ]
    },
    {
     "name": "stderr",
     "output_type": "stream",
     "text": [
      "\n",
      "[notice] A new release of pip available: 22.2.1 -> 24.0\n",
      "[notice] To update, run: python.exe -m pip install --upgrade pip\n"
     ]
    }
   ],
   "source": [
    "pip install pandas_datareader"
   ]
  },
  {
   "cell_type": "code",
   "execution_count": 1,
   "metadata": {},
   "outputs": [],
   "source": [
    "import datetime as dt\n",
    "import pandas_datareader.data as web\n",
    "import matplotlib.pyplot as plt\n",
    "from matplotlib import style\n",
    "import pandas as pd"
   ]
  },
  {
   "cell_type": "code",
   "execution_count": 12,
   "metadata": {},
   "outputs": [
    {
     "name": "stdout",
     "output_type": "stream",
     "text": [
      "[*********************100%%**********************]  1 of 1 completed\n",
      "                 Open       High        Low      Close  Adj Close     Volume\n",
      "Date                                                                        \n",
      "2016-01-04  15.381333  15.425333  14.600000  14.894000  14.894000  102406500\n",
      "2016-01-05  15.090667  15.126000  14.666667  14.895333  14.895333   47802000\n",
      "2016-01-06  14.666667  14.670000  14.398667  14.602667  14.602667   56686500\n",
      "2016-01-07  14.279333  14.562667  14.244667  14.376667  14.376667   53314500\n",
      "2016-01-08  14.524000  14.696000  14.051333  14.066667  14.066667   54421500\n"
     ]
    }
   ],
   "source": [
    "import yfinance as yf\n",
    "\n",
    "# Define the ticker symbol\n",
    "ticker_symbol = 'TSLA'\n",
    "\n",
    "# Fetch historical market data\n",
    "tesla_data = yf.download(ticker_symbol, start=\"2016-01-01\", end=\"2020-12-31\")\n",
    "\n",
    "# Display the first few rows of the data\n",
    "print(tesla_data.head())\n"
   ]
  },
  {
   "cell_type": "code",
   "execution_count": 13,
   "metadata": {},
   "outputs": [],
   "source": [
    "tesla_data.to_csv('tesla_data.csv')"
   ]
  }
 ],
 "metadata": {
  "kernelspec": {
   "display_name": "Python 3",
   "language": "python",
   "name": "python3"
  },
  "language_info": {
   "codemirror_mode": {
    "name": "ipython",
    "version": 3
   },
   "file_extension": ".py",
   "mimetype": "text/x-python",
   "name": "python",
   "nbconvert_exporter": "python",
   "pygments_lexer": "ipython3",
   "version": "3.10.6"
  }
 },
 "nbformat": 4,
 "nbformat_minor": 2
}
